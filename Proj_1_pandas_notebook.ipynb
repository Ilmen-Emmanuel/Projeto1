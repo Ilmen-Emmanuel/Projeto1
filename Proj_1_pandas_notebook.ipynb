{
  "cells": [
    {
      "cell_type": "markdown",
      "id": "8030d55b",
      "metadata": {
        "id": "8030d55b"
      },
      "source": [
        "# Projeto Técnicas de programação I\n",
        "\n",
        "## Análise exploratória de dados/Pandas\n",
        "\n",
        "Nomes: Ilmen Emmanuel Nino Neto\n",
        "\n",
        "Turma: 892 \n"
      ]
    },
    {
      "cell_type": "markdown",
      "id": "9d476103",
      "metadata": {
        "id": "9d476103"
      },
      "source": [
        "Nesse projeto trabalharemos com dados fictícios de investidores.\n",
        "\n",
        "São 3 arquivos que devem ser carregados para responder as perguntas abaixo.\n",
        "\n",
        "Para a entrega, coloque o notebook respondido no seu github (um por pessoa)!"
      ]
    },
    {
      "cell_type": "markdown",
      "id": "ff348160",
      "metadata": {
        "id": "ff348160"
      },
      "source": [
        "Informações\n",
        "\n",
        "Cadastro:\n",
        "- **id** : Identificação do investidor\n",
        "- **Nome** : Nome completo do investidor \n",
        "- **Sexo** : Feminino ou masculino\n",
        "- **Nasc** : Data de nascimento\n",
        "- **Idade** : Idade do investidor \n",
        "- **Email** : E-mail do investidor\n",
        "- **Lat_long** : Dados geográficos do investidor\n",
        "- **Job** : Profisão do investidor ou do seu responsável (em inglês)\n",
        "- **Estado** : Estado onde o investidor reside\n",
        "\n",
        "Investimento:\n",
        "- **id** : Identificação do investidor\n",
        "- **Salario** : Renda do investidor ou seu responsável\n",
        "- **Perfil** : Perfil de investimento\n",
        "- **Ativo01, Ativo02, Ativo03, Ativo04, Ativo05, Ativo06, Ativo07** : O quanto de dinheiro o investidor colocou em cada ativo\n",
        "- **Nota1, Nota2** : O quanto o investidor está satisfeito com nossa empresa (2 avaliações)\n",
        "\n",
        "Lembrando que esses dados são irreais e fictícios\n"
      ]
    },
    {
      "cell_type": "markdown",
      "id": "2c93ad4b",
      "metadata": {
        "id": "2c93ad4b"
      },
      "source": [
        "Arquivo cadastro.csv\n",
        "\n",
        "\n",
        "Arquivo investimento.csv (dividido em 2 partes)"
      ]
    },
    {
      "cell_type": "markdown",
      "id": "ebdf2a14",
      "metadata": {
        "id": "ebdf2a14"
      },
      "source": [
        "### Critérios de avaliação\n",
        "\n",
        "Os seguintes itens serão avaliados:\n",
        "\n",
        "1. Reprodutibilidade do código: seu código será executado e precisa gerar os mesmos resultados apresentados por você;\n",
        "\n",
        "2. Clareza: seu código precisa ser claro e deve existir uma linha de raciocínio direta. Comente o código em pontos que julgar necessário para o entendimento total;\n",
        "\n",
        "3. Explicação de todos os processos feitos e decisões tomadas\n",
        "\n",
        "## Informações Gerais sobre o Projeto\n",
        "\n",
        "- O projeto poderá ser desenvolvido __individualmente__ ou em __grupos com até 4 pessoas__, caos façam em grupos enviar a relação de alunos do grupo para o professor;\n",
        "\n",
        "\n",
        "- Data de Entrega: 18/11/2022;\n",
        "\n",
        "- Entrega: Através do _Class_\n",
        "\n",
        "\n",
        "\n"
      ]
    },
    {
      "cell_type": "markdown",
      "id": "4ceb5d96",
      "metadata": {
        "id": "4ceb5d96"
      },
      "source": [
        "## 1 - Carregar os arquivos e cadastro, investimento1 e investimento2 e mostrar a quantidade de linhas de cada um, além das informações desses dataframes"
      ]
    },
    {
      "cell_type": "code",
      "execution_count": 43,
      "id": "61c059ab",
      "metadata": {
        "ExecuteTime": {
          "end_time": "2021-08-16T13:30:14.809532Z",
          "start_time": "2021-08-16T13:30:14.801117Z"
        },
        "id": "61c059ab"
      },
      "outputs": [],
      "source": [
        "#Importando a biblioteca que será utilizada\n",
        "import pandas as pd"
      ]
    },
    {
      "cell_type": "code",
      "execution_count": 44,
      "id": "876ada8f",
      "metadata": {},
      "outputs": [],
      "source": [
        "# Leitura de uma arquivo de formato csv\n",
        "df_cadastro = pd.read_csv(\"cadastro.csv\")\n",
        "df_invest1 = pd.read_csv(\"investimento_parte1.csv\")\n",
        "df_invest2 = pd.read_csv(\"investimento_parte2.csv\")\n",
        "# Por identificar que o separador de colunas utilizado nos arquivos csv é o parâmetro padrão da propriedade (\",\") não será preciso passar esse parâmetro."
      ]
    },
    {
      "cell_type": "code",
      "execution_count": 45,
      "id": "eeaf1117",
      "metadata": {},
      "outputs": [
        {
          "name": "stdout",
          "output_type": "stream",
          "text": [
            "A quantidade de linhas do dataframe cadastro é: 38754.\n",
            "A quantidade de linhas do dataframe investimento pt 1 é: 20000.\n",
            "A quantidade de linhas do dataframe investimento pt 2 é : 24052.\n"
          ]
        }
      ],
      "source": [
        "# A propriedade np.shape retorna o n°de linhas e colunas em uma tupla (linhas, colunas)\n",
        "# Obter apenas a quantidade de linhas se usa slice com a posição das linhas [0]\n",
        "print(f\"A quantidade de linhas do dataframe cadastro é: {df_cadastro.shape[0]}.\")\n",
        "print(f\"A quantidade de linhas do dataframe investimento pt 1 é: {df_invest1.shape[0]}.\")\n",
        "print(f\"A quantidade de linhas do dataframe investimento pt 2 é : {df_invest2.shape[0]}.\")"
      ]
    },
    {
      "cell_type": "code",
      "execution_count": 46,
      "id": "3b2ca5b9",
      "metadata": {},
      "outputs": [
        {
          "name": "stdout",
          "output_type": "stream",
          "text": [
            "Informações do dataframe de cadastros: \n",
            "-------------------------------------\n",
            "id          object\n",
            "Nome        object\n",
            "Sexo        object\n",
            "Nasc        object\n",
            "Idade        int64\n",
            "Email       object\n",
            "Lat_long    object\n",
            "Job         object\n",
            "Estado      object\n",
            "dtype: object\n",
            "Amostras:\n",
            "-------------------------------------\n"
          ]
        },
        {
          "data": {
            "text/html": [
              "<div>\n",
              "<style scoped>\n",
              "    .dataframe tbody tr th:only-of-type {\n",
              "        vertical-align: middle;\n",
              "    }\n",
              "\n",
              "    .dataframe tbody tr th {\n",
              "        vertical-align: top;\n",
              "    }\n",
              "\n",
              "    .dataframe thead th {\n",
              "        text-align: right;\n",
              "    }\n",
              "</style>\n",
              "<table border=\"1\" class=\"dataframe\">\n",
              "  <thead>\n",
              "    <tr style=\"text-align: right;\">\n",
              "      <th></th>\n",
              "      <th>id</th>\n",
              "      <th>Nome</th>\n",
              "      <th>Sexo</th>\n",
              "      <th>Nasc</th>\n",
              "      <th>Idade</th>\n",
              "      <th>Email</th>\n",
              "      <th>Lat_long</th>\n",
              "      <th>Job</th>\n",
              "      <th>Estado</th>\n",
              "    </tr>\n",
              "  </thead>\n",
              "  <tbody>\n",
              "    <tr>\n",
              "      <th>25268</th>\n",
              "      <td>id0025269</td>\n",
              "      <td>Jaqueline Geyo de Sampaio</td>\n",
              "      <td>Fem</td>\n",
              "      <td>1997-06-26</td>\n",
              "      <td>24</td>\n",
              "      <td>monica70@hotmail.com</td>\n",
              "      <td>(Decimal('-37.1334325'), Decimal('-32.268032'))</td>\n",
              "      <td>Education administrator</td>\n",
              "      <td>RO</td>\n",
              "    </tr>\n",
              "    <tr>\n",
              "      <th>23896</th>\n",
              "      <td>id0023897</td>\n",
              "      <td>Jair de Castro</td>\n",
              "      <td>Masc</td>\n",
              "      <td>2017-03-16</td>\n",
              "      <td>4</td>\n",
              "      <td>allison25@gmail.com</td>\n",
              "      <td>(Decimal('12.6900105'), Decimal('-151.907461'))</td>\n",
              "      <td>Research officer, political party</td>\n",
              "      <td>DF</td>\n",
              "    </tr>\n",
              "    <tr>\n",
              "      <th>14623</th>\n",
              "      <td>id0014624</td>\n",
              "      <td>Maíra Gomes da Gama</td>\n",
              "      <td>Fem</td>\n",
              "      <td>2014-10-01</td>\n",
              "      <td>7</td>\n",
              "      <td>bwilson@hotmail.com</td>\n",
              "      <td>(Decimal('36.245058'), Decimal('-70.538622'))</td>\n",
              "      <td>Oceanographer</td>\n",
              "      <td>AC</td>\n",
              "    </tr>\n",
              "  </tbody>\n",
              "</table>\n",
              "</div>"
            ],
            "text/plain": [
              "              id                       Nome  Sexo        Nasc  Idade  \\\n",
              "25268  id0025269  Jaqueline Geyo de Sampaio   Fem  1997-06-26     24   \n",
              "23896  id0023897             Jair de Castro  Masc  2017-03-16      4   \n",
              "14623  id0014624        Maíra Gomes da Gama   Fem  2014-10-01      7   \n",
              "\n",
              "                      Email                                         Lat_long  \\\n",
              "25268  monica70@hotmail.com  (Decimal('-37.1334325'), Decimal('-32.268032'))   \n",
              "23896   allison25@gmail.com  (Decimal('12.6900105'), Decimal('-151.907461'))   \n",
              "14623   bwilson@hotmail.com    (Decimal('36.245058'), Decimal('-70.538622'))   \n",
              "\n",
              "                                     Job Estado  \n",
              "25268            Education administrator     RO  \n",
              "23896  Research officer, political party     DF  \n",
              "14623                      Oceanographer     AC  "
            ]
          },
          "metadata": {},
          "output_type": "display_data"
        },
        {
          "name": "stdout",
          "output_type": "stream",
          "text": [
            "Informações estatísticas de valores numéricos:\n",
            "-------------------------------------\n",
            "              Idade\n",
            "count  38754.000000\n",
            "mean      25.716855\n",
            "std       14.918449\n",
            "min        0.000000\n",
            "25%       13.000000\n",
            "50%       26.000000\n",
            "75%       39.000000\n",
            "max       51.000000\n",
            "-------------------------------------\n"
          ]
        }
      ],
      "source": [
        "# Obter informações do dataframe de cadastros:\n",
        "print(\"Informações do dataframe de cadastros: \")\n",
        "print(\"-\"*37)\n",
        "print(df_cadastro.dtypes) # tipos de dados para cada coluna \n",
        "print(\"Amostras:\")\n",
        "print(\"-\"*37)\n",
        "display(df_cadastro.sample(3)) # Retorna uma visualização de amostras de linhas do dataframe\n",
        "print(\"Informações estatísticas de valores numéricos:\")\n",
        "print(\"-\"*37)\n",
        "# A propriedade describe retorna informações estatísticas do dataframe se houver colunas com dados do tipo int ou float\n",
        "# count - total de linhas, mean - média, std - desvio padrão, min - valor mínimo, 25%, 50% e 75% - quartis, max - valor máximo.\n",
        "print(df_cadastro.describe())\n",
        "print(\"-\"*37)"
      ]
    },
    {
      "cell_type": "code",
      "execution_count": 47,
      "id": "0c3287cd",
      "metadata": {},
      "outputs": [
        {
          "name": "stdout",
          "output_type": "stream",
          "text": [
            "Informações do dataframe de investimento parte 1: \n",
            "-------------------------------------\n",
            "id          object\n",
            "Salario     object\n",
            "Perfil      object\n",
            "Ativo01    float64\n",
            "Ativo02    float64\n",
            "Ativo03    float64\n",
            "Ativo04    float64\n",
            "Ativo05    float64\n",
            "Ativo06    float64\n",
            "Ativo07    float64\n",
            "Nota1      float64\n",
            "Nota2      float64\n",
            "dtype: object\n",
            "Amostras:\n",
            "-------------------------------------\n"
          ]
        },
        {
          "data": {
            "text/html": [
              "<div>\n",
              "<style scoped>\n",
              "    .dataframe tbody tr th:only-of-type {\n",
              "        vertical-align: middle;\n",
              "    }\n",
              "\n",
              "    .dataframe tbody tr th {\n",
              "        vertical-align: top;\n",
              "    }\n",
              "\n",
              "    .dataframe thead th {\n",
              "        text-align: right;\n",
              "    }\n",
              "</style>\n",
              "<table border=\"1\" class=\"dataframe\">\n",
              "  <thead>\n",
              "    <tr style=\"text-align: right;\">\n",
              "      <th></th>\n",
              "      <th>id</th>\n",
              "      <th>Salario</th>\n",
              "      <th>Perfil</th>\n",
              "      <th>Ativo01</th>\n",
              "      <th>Ativo02</th>\n",
              "      <th>Ativo03</th>\n",
              "      <th>Ativo04</th>\n",
              "      <th>Ativo05</th>\n",
              "      <th>Ativo06</th>\n",
              "      <th>Ativo07</th>\n",
              "      <th>Nota1</th>\n",
              "      <th>Nota2</th>\n",
              "    </tr>\n",
              "  </thead>\n",
              "  <tbody>\n",
              "    <tr>\n",
              "      <th>11156</th>\n",
              "      <td>id0024232</td>\n",
              "      <td>$9667.49</td>\n",
              "      <td>Conservador</td>\n",
              "      <td>872.7</td>\n",
              "      <td>5230.96</td>\n",
              "      <td>NaN</td>\n",
              "      <td>15017.47</td>\n",
              "      <td>6973.57</td>\n",
              "      <td>NaN</td>\n",
              "      <td>507.19</td>\n",
              "      <td>97.382688</td>\n",
              "      <td>88.144908</td>\n",
              "    </tr>\n",
              "    <tr>\n",
              "      <th>6666</th>\n",
              "      <td>id0011708</td>\n",
              "      <td>$484.35</td>\n",
              "      <td>Conservador</td>\n",
              "      <td>1420.4</td>\n",
              "      <td>NaN</td>\n",
              "      <td>2583.21</td>\n",
              "      <td>20765.70</td>\n",
              "      <td>4614.93</td>\n",
              "      <td>2176.36</td>\n",
              "      <td>501.02</td>\n",
              "      <td>0.461063</td>\n",
              "      <td>76.028927</td>\n",
              "    </tr>\n",
              "    <tr>\n",
              "      <th>17986</th>\n",
              "      <td>id0005792</td>\n",
              "      <td>$1762.56</td>\n",
              "      <td>Agressivo</td>\n",
              "      <td>NaN</td>\n",
              "      <td>5963.86</td>\n",
              "      <td>2794.04</td>\n",
              "      <td>NaN</td>\n",
              "      <td>4879.53</td>\n",
              "      <td>NaN</td>\n",
              "      <td>495.76</td>\n",
              "      <td>49.044420</td>\n",
              "      <td>56.930861</td>\n",
              "    </tr>\n",
              "  </tbody>\n",
              "</table>\n",
              "</div>"
            ],
            "text/plain": [
              "              id   Salario       Perfil  Ativo01  Ativo02  Ativo03   Ativo04  \\\n",
              "11156  id0024232  $9667.49  Conservador    872.7  5230.96      NaN  15017.47   \n",
              "6666   id0011708   $484.35  Conservador   1420.4      NaN  2583.21  20765.70   \n",
              "17986  id0005792  $1762.56    Agressivo      NaN  5963.86  2794.04       NaN   \n",
              "\n",
              "       Ativo05  Ativo06  Ativo07      Nota1      Nota2  \n",
              "11156  6973.57      NaN   507.19  97.382688  88.144908  \n",
              "6666   4614.93  2176.36   501.02   0.461063  76.028927  \n",
              "17986  4879.53      NaN   495.76  49.044420  56.930861  "
            ]
          },
          "metadata": {},
          "output_type": "display_data"
        },
        {
          "name": "stdout",
          "output_type": "stream",
          "text": [
            "Informações estatísticas de valores numéricos:\n",
            "-------------------------------------\n",
            "            Ativo01       Ativo02       Ativo03       Ativo04       Ativo05  \\\n",
            "count  15012.000000  16857.000000  16760.000000  13799.000000  16829.000000   \n",
            "mean    1125.757681   5148.243110   3139.165891  15136.440041   5281.172070   \n",
            "std      217.080495    398.701012    394.175941   6946.544888    792.562796   \n",
            "min      800.070000   4500.090000   2500.010000   5000.810000   4000.140000   \n",
            "25%      954.525000   4833.260000   2829.085000   9678.280000   4654.050000   \n",
            "50%     1093.145000   5107.230000   3096.020000  14070.350000   5197.220000   \n",
            "75%     1262.155000   5407.630000   3395.200000  19424.205000   5800.460000   \n",
            "max     2068.590000   6817.340000   5212.550000  47467.730000   9052.260000   \n",
            "\n",
            "           Ativo06       Ativo07         Nota1         Nota2  \n",
            "count  9895.000000  20000.000000  18469.000000  18954.000000  \n",
            "mean   2317.491907    500.093471     50.098208     50.174113  \n",
            "std     239.180603     10.012402     28.952396     28.832285  \n",
            "min    2000.040000    462.930000      0.003143      0.007864  \n",
            "25%    2127.395000    493.320000     25.020373     25.134177  \n",
            "50%    2270.870000    500.130000     50.119452     50.242237  \n",
            "75%    2455.335000    506.892500     75.238847     74.877627  \n",
            "max    3610.050000    542.050000     99.996659     99.991247  \n",
            "-------------------------------------\n"
          ]
        }
      ],
      "source": [
        "# Obter informações do dataframe de investimento parte 1:\n",
        "print(\"Informações do dataframe de investimento parte 1: \")\n",
        "print(\"-\"*37)\n",
        "print(df_invest1.dtypes) \n",
        "print(\"Amostras:\")\n",
        "print(\"-\"*37)\n",
        "display(df_invest1.sample(3)) \n",
        "print(\"Informações estatísticas de valores numéricos:\")\n",
        "print(\"-\"*37)\n",
        "print(df_invest1.describe())\n",
        "print(\"-\"*37)"
      ]
    },
    {
      "cell_type": "code",
      "execution_count": 48,
      "id": "78b1e869",
      "metadata": {},
      "outputs": [
        {
          "name": "stdout",
          "output_type": "stream",
          "text": [
            "Informações do dataframe de investimento parte 2: \n",
            "-------------------------------------\n",
            "id          object\n",
            "Salario     object\n",
            "Perfil      object\n",
            "Ativo01    float64\n",
            "Ativo02    float64\n",
            "Ativo03    float64\n",
            "Ativo04    float64\n",
            "Ativo05    float64\n",
            "Ativo06    float64\n",
            "Ativo07    float64\n",
            "Nota1      float64\n",
            "Nota2      float64\n",
            "dtype: object\n",
            "Amostras:\n",
            "-------------------------------------\n"
          ]
        },
        {
          "data": {
            "text/html": [
              "<div>\n",
              "<style scoped>\n",
              "    .dataframe tbody tr th:only-of-type {\n",
              "        vertical-align: middle;\n",
              "    }\n",
              "\n",
              "    .dataframe tbody tr th {\n",
              "        vertical-align: top;\n",
              "    }\n",
              "\n",
              "    .dataframe thead th {\n",
              "        text-align: right;\n",
              "    }\n",
              "</style>\n",
              "<table border=\"1\" class=\"dataframe\">\n",
              "  <thead>\n",
              "    <tr style=\"text-align: right;\">\n",
              "      <th></th>\n",
              "      <th>id</th>\n",
              "      <th>Salario</th>\n",
              "      <th>Perfil</th>\n",
              "      <th>Ativo01</th>\n",
              "      <th>Ativo02</th>\n",
              "      <th>Ativo03</th>\n",
              "      <th>Ativo04</th>\n",
              "      <th>Ativo05</th>\n",
              "      <th>Ativo06</th>\n",
              "      <th>Ativo07</th>\n",
              "      <th>Nota1</th>\n",
              "      <th>Nota2</th>\n",
              "    </tr>\n",
              "  </thead>\n",
              "  <tbody>\n",
              "    <tr>\n",
              "      <th>9211</th>\n",
              "      <td>id0006095</td>\n",
              "      <td>$53.28</td>\n",
              "      <td>Agressivo</td>\n",
              "      <td>1191.13</td>\n",
              "      <td>4530.50</td>\n",
              "      <td>3067.79</td>\n",
              "      <td>NaN</td>\n",
              "      <td>5423.58</td>\n",
              "      <td>NaN</td>\n",
              "      <td>505.36</td>\n",
              "      <td>56.664271</td>\n",
              "      <td>54.869322</td>\n",
              "    </tr>\n",
              "    <tr>\n",
              "      <th>3139</th>\n",
              "      <td>id0009268</td>\n",
              "      <td>$9405.47</td>\n",
              "      <td>Moderado</td>\n",
              "      <td>NaN</td>\n",
              "      <td>4991.49</td>\n",
              "      <td>2886.45</td>\n",
              "      <td>NaN</td>\n",
              "      <td>4554.50</td>\n",
              "      <td>2375.38</td>\n",
              "      <td>505.40</td>\n",
              "      <td>97.760462</td>\n",
              "      <td>27.907798</td>\n",
              "    </tr>\n",
              "    <tr>\n",
              "      <th>11504</th>\n",
              "      <td>id0031974</td>\n",
              "      <td>$285.48</td>\n",
              "      <td>Conservador</td>\n",
              "      <td>1368.87</td>\n",
              "      <td>NaN</td>\n",
              "      <td>NaN</td>\n",
              "      <td>13282.79</td>\n",
              "      <td>5039.74</td>\n",
              "      <td>2325.76</td>\n",
              "      <td>500.40</td>\n",
              "      <td>36.530101</td>\n",
              "      <td>16.352482</td>\n",
              "    </tr>\n",
              "  </tbody>\n",
              "</table>\n",
              "</div>"
            ],
            "text/plain": [
              "              id   Salario       Perfil  Ativo01  Ativo02  Ativo03   Ativo04  \\\n",
              "9211   id0006095    $53.28    Agressivo  1191.13  4530.50  3067.79       NaN   \n",
              "3139   id0009268  $9405.47     Moderado      NaN  4991.49  2886.45       NaN   \n",
              "11504  id0031974   $285.48  Conservador  1368.87      NaN      NaN  13282.79   \n",
              "\n",
              "       Ativo05  Ativo06  Ativo07      Nota1      Nota2  \n",
              "9211   5423.58      NaN   505.36  56.664271  54.869322  \n",
              "3139   4554.50  2375.38   505.40  97.760462  27.907798  \n",
              "11504  5039.74  2325.76   500.40  36.530101  16.352482  "
            ]
          },
          "metadata": {},
          "output_type": "display_data"
        },
        {
          "name": "stdout",
          "output_type": "stream",
          "text": [
            "Informações estatísticas de valores numéricos:\n",
            "-------------------------------------\n",
            "            Ativo01       Ativo02       Ativo03       Ativo04       Ativo05  \\\n",
            "count  17994.000000  20245.000000  20249.000000  16685.000000  20211.000000   \n",
            "mean    1129.080980   5146.837462   3141.053559  15163.012785   5286.059975   \n",
            "std      219.747037    398.977137    396.580165   6993.738051    796.892363   \n",
            "min      800.010000   4500.050000   2500.010000   5000.930000   4000.250000   \n",
            "25%      955.027500   4831.890000   2827.840000   9621.090000   4654.300000   \n",
            "50%     1096.395000   5101.630000   3097.070000  14090.430000   5199.610000   \n",
            "75%     1269.760000   5409.750000   3403.260000  19517.340000   5805.705000   \n",
            "max     2143.050000   6990.260000   4899.990000  48744.740000   9052.260000   \n",
            "\n",
            "            Ativo06       Ativo07         Nota1         Nota2  \n",
            "count  11932.000000  24052.000000  22172.000000  22810.000000  \n",
            "mean    2320.358866    500.019744     49.654722     49.973616  \n",
            "std      241.972481      9.977632     28.913037     28.935261  \n",
            "min     2000.040000    462.930000      0.003143      0.003341  \n",
            "25%     2128.885000    493.260000     24.767894     25.015850  \n",
            "50%     2270.135000    500.120000     49.198346     49.747230  \n",
            "75%     2464.085000    506.760000     74.880010     75.164789  \n",
            "max     3639.650000    542.300000     99.991343     99.999535  \n",
            "-------------------------------------\n"
          ]
        }
      ],
      "source": [
        "# Obter informações do dataframe de investimento parte 2:\n",
        "print(\"Informações do dataframe de investimento parte 2: \")\n",
        "print(\"-\"*37)\n",
        "print(df_invest2.dtypes) \n",
        "print(\"Amostras:\")\n",
        "print(\"-\"*37)\n",
        "display(df_invest2.sample(3)) \n",
        "print(\"Informações estatísticas de valores numéricos:\")\n",
        "print(\"-\"*37)\n",
        "print(df_invest2.describe())\n",
        "print(\"-\"*37)"
      ]
    },
    {
      "cell_type": "code",
      "execution_count": 49,
      "id": "1b7a97b1",
      "metadata": {},
      "outputs": [
        {
          "name": "stdout",
          "output_type": "stream",
          "text": [
            "A quantidade de colunas do dataframe cadastro é: 9.\n",
            "A quantidade de colunas do dataframe investimento pt 1 é: 12.\n",
            "A quantidade de colunas do dataframe investimento pt 2 é : 12.\n"
          ]
        }
      ],
      "source": [
        "# Por fim obter informações das colunas \n",
        "print(f\"A quantidade de colunas do dataframe cadastro é: {df_cadastro.shape[1]}.\")\n",
        "print(f\"A quantidade de colunas do dataframe investimento pt 1 é: {df_invest1.shape[1]}.\")\n",
        "print(f\"A quantidade de colunas do dataframe investimento pt 2 é : {df_invest2.shape[1]}.\")"
      ]
    },
    {
      "cell_type": "markdown",
      "id": "de88ae37",
      "metadata": {
        "id": "de88ae37"
      },
      "source": [
        "## 2 - Juntar os dataframes de investimento1 e investimento2 em um só e ver a quantidade de linhas"
      ]
    },
    {
      "cell_type": "code",
      "execution_count": 50,
      "id": "e2c363da",
      "metadata": {
        "id": "e2c363da"
      },
      "outputs": [
        {
          "name": "stdout",
          "output_type": "stream",
          "text": [
            " A quantidade de linhas do dataframe concatenado é : 44052.\n"
          ]
        }
      ],
      "source": [
        "df_invest = pd.concat([df_invest1,df_invest2],axis=0) #Concatena os dataframes levando em consideração o parâmetro axis = 0 para linhas e 1 para colunas.\n",
        "print(f\" A quantidade de linhas do dataframe concatenado é : {df_invest.shape[0]}.\")"
      ]
    },
    {
      "cell_type": "markdown",
      "id": "9a49fb0d",
      "metadata": {
        "id": "9a49fb0d"
      },
      "source": [
        "## 3 - Crie um novo dataframe eliminando as linhas duplicadas"
      ]
    },
    {
      "cell_type": "code",
      "execution_count": 51,
      "id": "9d26e5d9",
      "metadata": {
        "id": "9d26e5d9"
      },
      "outputs": [
        {
          "name": "stdout",
          "output_type": "stream",
          "text": [
            "Foram removidas 5298 linhas duplicadas. Restando 38754 linhas únicas.\n"
          ]
        }
      ],
      "source": [
        "df_invest_unico = df_invest.drop_duplicates() #drop_duplicates identifica linhas com valores duplicados e remove\n",
        "print(f\"Foram removidas {df_invest.shape[0] - df_invest_unico.shape[0]} linhas duplicadas. Restando {df_invest_unico.shape[0]} linhas únicas.\")"
      ]
    },
    {
      "cell_type": "markdown",
      "id": "d5c4abc4",
      "metadata": {
        "id": "d5c4abc4"
      },
      "source": [
        "## 4 - Junte o dataframe de investimento com o de cadastro\n",
        "Dica: use a chave id"
      ]
    },
    {
      "cell_type": "code",
      "execution_count": 52,
      "id": "f21d58b4",
      "metadata": {
        "id": "f21d58b4"
      },
      "outputs": [
        {
          "name": "stdout",
          "output_type": "stream",
          "text": [
            "O documento resultante do cruzamentro tem 38754 linhas e 20 colunas\n"
          ]
        }
      ],
      "source": [
        "#Os dois dataframes compartilham a coluna id, então deverão ser mescladas por essa chave em comum\n",
        "from copy import deepcopy #Criar um espaço de armazenamento distinto para variável para que ao alterar-la não altere todas as variáveis que tiverem ponteiro para ela\n",
        "df = deepcopy(df_invest_unico)\n",
        "df = df.merge(df_cadastro, how=\"inner\", on=\"id\")\n",
        "print(f\"O documento resultante do cruzamentro tem {df.shape[0]} linhas e {df.shape[1]} colunas\")"
      ]
    },
    {
      "cell_type": "markdown",
      "id": "0ce78c5c",
      "metadata": {
        "ExecuteTime": {
          "end_time": "2021-08-16T13:13:10.973171Z",
          "start_time": "2021-08-16T13:13:10.961165Z"
        },
        "id": "0ce78c5c"
      },
      "source": [
        "## 5 - Ordene o dataframe pelo id, de forma crescente e redefina o índice"
      ]
    },
    {
      "cell_type": "code",
      "execution_count": 53,
      "id": "4d97062c",
      "metadata": {
        "id": "4d97062c"
      },
      "outputs": [
        {
          "data": {
            "text/html": [
              "<div>\n",
              "<style scoped>\n",
              "    .dataframe tbody tr th:only-of-type {\n",
              "        vertical-align: middle;\n",
              "    }\n",
              "\n",
              "    .dataframe tbody tr th {\n",
              "        vertical-align: top;\n",
              "    }\n",
              "\n",
              "    .dataframe thead th {\n",
              "        text-align: right;\n",
              "    }\n",
              "</style>\n",
              "<table border=\"1\" class=\"dataframe\">\n",
              "  <thead>\n",
              "    <tr style=\"text-align: right;\">\n",
              "      <th></th>\n",
              "      <th>id</th>\n",
              "      <th>Salario</th>\n",
              "      <th>Perfil</th>\n",
              "      <th>Ativo01</th>\n",
              "      <th>Ativo02</th>\n",
              "      <th>Ativo03</th>\n",
              "      <th>Ativo04</th>\n",
              "      <th>Ativo05</th>\n",
              "      <th>Ativo06</th>\n",
              "      <th>Ativo07</th>\n",
              "      <th>Nota1</th>\n",
              "      <th>Nota2</th>\n",
              "      <th>Nome</th>\n",
              "      <th>Sexo</th>\n",
              "      <th>Nasc</th>\n",
              "      <th>Idade</th>\n",
              "      <th>Email</th>\n",
              "      <th>Lat_long</th>\n",
              "      <th>Job</th>\n",
              "      <th>Estado</th>\n",
              "    </tr>\n",
              "  </thead>\n",
              "  <tbody>\n",
              "    <tr>\n",
              "      <th>0</th>\n",
              "      <td>id0000001</td>\n",
              "      <td>$63.67</td>\n",
              "      <td>Moderado</td>\n",
              "      <td>1174.27</td>\n",
              "      <td>4980.98</td>\n",
              "      <td>2638.24</td>\n",
              "      <td>NaN</td>\n",
              "      <td>4480.91</td>\n",
              "      <td>2329.72</td>\n",
              "      <td>480.72</td>\n",
              "      <td>79.600372</td>\n",
              "      <td>9.802620</td>\n",
              "      <td>Eunice Hellen do Vale</td>\n",
              "      <td>Fem</td>\n",
              "      <td>1970-11-12</td>\n",
              "      <td>51</td>\n",
              "      <td>djones@yahoo.com</td>\n",
              "      <td>(Decimal('24.7024355'), Decimal('-28.038258'))</td>\n",
              "      <td>Technical author</td>\n",
              "      <td>TO</td>\n",
              "    </tr>\n",
              "    <tr>\n",
              "      <th>1</th>\n",
              "      <td>id0000002</td>\n",
              "      <td>$21.96</td>\n",
              "      <td>Moderado</td>\n",
              "      <td>842.12</td>\n",
              "      <td>5646.09</td>\n",
              "      <td>3336.07</td>\n",
              "      <td>NaN</td>\n",
              "      <td>5624.22</td>\n",
              "      <td>2669.98</td>\n",
              "      <td>504.17</td>\n",
              "      <td>44.406893</td>\n",
              "      <td>90.512871</td>\n",
              "      <td>Sebastião Castelo Branco Júnior</td>\n",
              "      <td>Masc</td>\n",
              "      <td>2019-12-10</td>\n",
              "      <td>2</td>\n",
              "      <td>barnesandrea@yahoo.com</td>\n",
              "      <td>(Decimal('21.8589875'), Decimal('122.830566'))</td>\n",
              "      <td>Biochemist, clinical</td>\n",
              "      <td>DF</td>\n",
              "    </tr>\n",
              "    <tr>\n",
              "      <th>2</th>\n",
              "      <td>id0000003</td>\n",
              "      <td>$62497.64</td>\n",
              "      <td>Agressivo</td>\n",
              "      <td>818.81</td>\n",
              "      <td>5516.52</td>\n",
              "      <td>3396.64</td>\n",
              "      <td>NaN</td>\n",
              "      <td>5033.83</td>\n",
              "      <td>2229.45</td>\n",
              "      <td>523.12</td>\n",
              "      <td>44.020024</td>\n",
              "      <td>65.060941</td>\n",
              "      <td>Romildo Fábio de Carvalho</td>\n",
              "      <td>Masc</td>\n",
              "      <td>2015-12-28</td>\n",
              "      <td>6</td>\n",
              "      <td>walkermichael@yahoo.com</td>\n",
              "      <td>(Decimal('-28.2161525'), Decimal('97.140529'))</td>\n",
              "      <td>Development worker, international aid</td>\n",
              "      <td>DF</td>\n",
              "    </tr>\n",
              "  </tbody>\n",
              "</table>\n",
              "</div>"
            ],
            "text/plain": [
              "          id    Salario     Perfil  Ativo01  Ativo02  Ativo03  Ativo04  \\\n",
              "0  id0000001     $63.67   Moderado  1174.27  4980.98  2638.24      NaN   \n",
              "1  id0000002     $21.96   Moderado   842.12  5646.09  3336.07      NaN   \n",
              "2  id0000003  $62497.64  Agressivo   818.81  5516.52  3396.64      NaN   \n",
              "\n",
              "   Ativo05  Ativo06  Ativo07      Nota1      Nota2  \\\n",
              "0  4480.91  2329.72   480.72  79.600372   9.802620   \n",
              "1  5624.22  2669.98   504.17  44.406893  90.512871   \n",
              "2  5033.83  2229.45   523.12  44.020024  65.060941   \n",
              "\n",
              "                              Nome  Sexo        Nasc  Idade  \\\n",
              "0            Eunice Hellen do Vale   Fem  1970-11-12     51   \n",
              "1  Sebastião Castelo Branco Júnior  Masc  2019-12-10      2   \n",
              "2        Romildo Fábio de Carvalho  Masc  2015-12-28      6   \n",
              "\n",
              "                     Email                                        Lat_long  \\\n",
              "0         djones@yahoo.com  (Decimal('24.7024355'), Decimal('-28.038258'))   \n",
              "1   barnesandrea@yahoo.com  (Decimal('21.8589875'), Decimal('122.830566'))   \n",
              "2  walkermichael@yahoo.com  (Decimal('-28.2161525'), Decimal('97.140529'))   \n",
              "\n",
              "                                     Job Estado  \n",
              "0                       Technical author     TO  \n",
              "1                   Biochemist, clinical     DF  \n",
              "2  Development worker, international aid     DF  "
            ]
          },
          "metadata": {},
          "output_type": "display_data"
        },
        {
          "data": {
            "text/html": [
              "<div>\n",
              "<style scoped>\n",
              "    .dataframe tbody tr th:only-of-type {\n",
              "        vertical-align: middle;\n",
              "    }\n",
              "\n",
              "    .dataframe tbody tr th {\n",
              "        vertical-align: top;\n",
              "    }\n",
              "\n",
              "    .dataframe thead th {\n",
              "        text-align: right;\n",
              "    }\n",
              "</style>\n",
              "<table border=\"1\" class=\"dataframe\">\n",
              "  <thead>\n",
              "    <tr style=\"text-align: right;\">\n",
              "      <th></th>\n",
              "      <th>id</th>\n",
              "      <th>Salario</th>\n",
              "      <th>Perfil</th>\n",
              "      <th>Ativo01</th>\n",
              "      <th>Ativo02</th>\n",
              "      <th>Ativo03</th>\n",
              "      <th>Ativo04</th>\n",
              "      <th>Ativo05</th>\n",
              "      <th>Ativo06</th>\n",
              "      <th>Ativo07</th>\n",
              "      <th>Nota1</th>\n",
              "      <th>Nota2</th>\n",
              "      <th>Nome</th>\n",
              "      <th>Sexo</th>\n",
              "      <th>Nasc</th>\n",
              "      <th>Idade</th>\n",
              "      <th>Email</th>\n",
              "      <th>Lat_long</th>\n",
              "      <th>Job</th>\n",
              "      <th>Estado</th>\n",
              "    </tr>\n",
              "  </thead>\n",
              "  <tbody>\n",
              "    <tr>\n",
              "      <th>38751</th>\n",
              "      <td>id0038752</td>\n",
              "      <td>$32.41</td>\n",
              "      <td>Agressivo</td>\n",
              "      <td>1163.90</td>\n",
              "      <td>4911.63</td>\n",
              "      <td>3746.62</td>\n",
              "      <td>NaN</td>\n",
              "      <td>6733.79</td>\n",
              "      <td>2338.43</td>\n",
              "      <td>504.32</td>\n",
              "      <td>32.13961</td>\n",
              "      <td>22.742974</td>\n",
              "      <td>Severino Edson de Viana Loase</td>\n",
              "      <td>Masc</td>\n",
              "      <td>1981-12-01</td>\n",
              "      <td>40</td>\n",
              "      <td>cindy11@yahoo.com</td>\n",
              "      <td>(Decimal('-52.1338005'), Decimal('-59.715325'))</td>\n",
              "      <td>Arts development officer</td>\n",
              "      <td>PR</td>\n",
              "    </tr>\n",
              "    <tr>\n",
              "      <th>38752</th>\n",
              "      <td>id0038753</td>\n",
              "      <td>$914.52</td>\n",
              "      <td>Conservador</td>\n",
              "      <td>NaN</td>\n",
              "      <td>5532.35</td>\n",
              "      <td>2861.32</td>\n",
              "      <td>NaN</td>\n",
              "      <td>4921.77</td>\n",
              "      <td>2024.00</td>\n",
              "      <td>500.65</td>\n",
              "      <td>98.38508</td>\n",
              "      <td>56.611838</td>\n",
              "      <td>Kim Mooshi</td>\n",
              "      <td>Masc</td>\n",
              "      <td>1999-12-06</td>\n",
              "      <td>22</td>\n",
              "      <td>mcdonaldmario@gmail.com</td>\n",
              "      <td>(Decimal('-81.2874995'), Decimal('-28.805800'))</td>\n",
              "      <td>Production manager</td>\n",
              "      <td>RJ</td>\n",
              "    </tr>\n",
              "    <tr>\n",
              "      <th>38753</th>\n",
              "      <td>id0038754</td>\n",
              "      <td>$29076.19</td>\n",
              "      <td>Moderado</td>\n",
              "      <td>981.62</td>\n",
              "      <td>4825.10</td>\n",
              "      <td>NaN</td>\n",
              "      <td>18085.88</td>\n",
              "      <td>5161.07</td>\n",
              "      <td>2257.66</td>\n",
              "      <td>507.95</td>\n",
              "      <td>29.66005</td>\n",
              "      <td>47.371606</td>\n",
              "      <td>Vinícius Arnaldo de Pereira Mendes</td>\n",
              "      <td>Masc</td>\n",
              "      <td>2003-09-13</td>\n",
              "      <td>18</td>\n",
              "      <td>omartinez@hotmail.com</td>\n",
              "      <td>(Decimal('-37.248521'), Decimal('6.033254'))</td>\n",
              "      <td>Pension scheme manager</td>\n",
              "      <td>AL</td>\n",
              "    </tr>\n",
              "  </tbody>\n",
              "</table>\n",
              "</div>"
            ],
            "text/plain": [
              "              id    Salario       Perfil  Ativo01  Ativo02  Ativo03   Ativo04  \\\n",
              "38751  id0038752     $32.41    Agressivo  1163.90  4911.63  3746.62       NaN   \n",
              "38752  id0038753    $914.52  Conservador      NaN  5532.35  2861.32       NaN   \n",
              "38753  id0038754  $29076.19     Moderado   981.62  4825.10      NaN  18085.88   \n",
              "\n",
              "       Ativo05  Ativo06  Ativo07     Nota1      Nota2  \\\n",
              "38751  6733.79  2338.43   504.32  32.13961  22.742974   \n",
              "38752  4921.77  2024.00   500.65  98.38508  56.611838   \n",
              "38753  5161.07  2257.66   507.95  29.66005  47.371606   \n",
              "\n",
              "                                     Nome  Sexo        Nasc  Idade  \\\n",
              "38751       Severino Edson de Viana Loase  Masc  1981-12-01     40   \n",
              "38752                          Kim Mooshi  Masc  1999-12-06     22   \n",
              "38753  Vinícius Arnaldo de Pereira Mendes  Masc  2003-09-13     18   \n",
              "\n",
              "                         Email  \\\n",
              "38751        cindy11@yahoo.com   \n",
              "38752  mcdonaldmario@gmail.com   \n",
              "38753    omartinez@hotmail.com   \n",
              "\n",
              "                                              Lat_long  \\\n",
              "38751  (Decimal('-52.1338005'), Decimal('-59.715325'))   \n",
              "38752  (Decimal('-81.2874995'), Decimal('-28.805800'))   \n",
              "38753     (Decimal('-37.248521'), Decimal('6.033254'))   \n",
              "\n",
              "                            Job Estado  \n",
              "38751  Arts development officer     PR  \n",
              "38752        Production manager     RJ  \n",
              "38753    Pension scheme manager     AL  "
            ]
          },
          "metadata": {},
          "output_type": "display_data"
        }
      ],
      "source": [
        "df = df.sort_values(\"id\", ascending=True ).reset_index(drop=True)\n",
        "display(df.head(3))\n",
        "display(df.tail(3))"
      ]
    },
    {
      "cell_type": "markdown",
      "id": "c22a9a29",
      "metadata": {
        "id": "c22a9a29"
      },
      "source": [
        "## 6 - Faça uma análise dos dados faltantes e trate-os\n",
        "\n",
        "Mostre todas as colunas com dados faltantes, sua quantidade/porcentagem e como tratar (preencher) cada uma delas explicando sua estratégia"
      ]
    },
    {
      "cell_type": "code",
      "execution_count": 54,
      "id": "c4bb5d14",
      "metadata": {
        "id": "c4bb5d14"
      },
      "outputs": [
        {
          "name": "stdout",
          "output_type": "stream",
          "text": [
            "id              0\n",
            "Salario         0\n",
            "Perfil          0\n",
            "Ativo01      9724\n",
            "Ativo02      6100\n",
            "Ativo03      6169\n",
            "Ativo04     11887\n",
            "Ativo05      6191\n",
            "Ativo06     19514\n",
            "Ativo07         0\n",
            "Nota1        3000\n",
            "Nota2        2000\n",
            "Nome            0\n",
            "Sexo            0\n",
            "Nasc            0\n",
            "Idade           0\n",
            "Email           0\n",
            "Lat_long        0\n",
            "Job             0\n",
            "Estado          0\n",
            "dtype: int64\n"
          ]
        }
      ],
      "source": [
        "print(df.isnull().sum()) # Este método avalia todas as colunas com valores nulos e faz a soma das linhas nulas para cada coluna"
      ]
    },
    {
      "cell_type": "code",
      "execution_count": 55,
      "id": "783a0df7",
      "metadata": {},
      "outputs": [
        {
          "name": "stdout",
          "output_type": "stream",
          "text": [
            "id           0.000000\n",
            "Salario      0.000000\n",
            "Perfil       0.000000\n",
            "Ativo01     25.091603\n",
            "Ativo02     15.740311\n",
            "Ativo03     15.918357\n",
            "Ativo04     30.672963\n",
            "Ativo05     15.975125\n",
            "Ativo06     50.353512\n",
            "Ativo07      0.000000\n",
            "Nota1        7.741136\n",
            "Nota2        5.160758\n",
            "Nome         0.000000\n",
            "Sexo         0.000000\n",
            "Nasc         0.000000\n",
            "Idade        0.000000\n",
            "Email        0.000000\n",
            "Lat_long     0.000000\n",
            "Job          0.000000\n",
            "Estado       0.000000\n",
            "dtype: float64\n"
          ]
        }
      ],
      "source": [
        "print((df.isnull().sum() / df.shape[0])*100)"
      ]
    },
    {
      "cell_type": "code",
      "execution_count": 56,
      "id": "2354e872",
      "metadata": {},
      "outputs": [
        {
          "name": "stdout",
          "output_type": "stream",
          "text": [
            "id          0\n",
            "Salario     0\n",
            "Perfil      0\n",
            "Ativo01     0\n",
            "Ativo02     0\n",
            "Ativo03     0\n",
            "Ativo04     0\n",
            "Ativo05     0\n",
            "Ativo06     0\n",
            "Ativo07     0\n",
            "Nota1       0\n",
            "Nota2       0\n",
            "Nome        0\n",
            "Sexo        0\n",
            "Nasc        0\n",
            "Idade       0\n",
            "Email       0\n",
            "Lat_long    0\n",
            "Job         0\n",
            "Estado      0\n",
            "dtype: int64\n"
          ]
        }
      ],
      "source": [
        "#Para as notas exclusivamente será substituida pela média \n",
        "#Considerando uma substituição de valores nulos por zero para ativos \n",
        "df['Nota1'].fillna(df['Nota1'].mean(), inplace=True)\n",
        "df['Nota2'].fillna(df['Nota2'].mean(), inplace=True)\n",
        "df.fillna(0, inplace=True)\n",
        "print(df.isnull().sum()) # Por fim é identificado que não sobrou nenhum valor nulo"
      ]
    },
    {
      "cell_type": "markdown",
      "id": "85ae4e81",
      "metadata": {
        "id": "85ae4e81"
      },
      "source": [
        "## 7 - Manipule os dados a seguir:\n",
        "- Criar coluna \"Total\" somando o valor de todos os ativos por investidor\n",
        "- Criar coluna \"Media\" com a média das notas 1 e 2\n",
        "- Criar coluna \"Dominio\" com apenas o domínio do email (dica: separar por @)\n",
        "- Mudar o nome da coluna \"Salário\" para \"Renda\" e tratar a coluna (sem caracter $ e tipo numérica)\n",
        "- Mudar os dados da coluna \"Sexo\" para Masculino e Feminino (tente usar o map)\n",
        "- Transformar os dados da coluna Media em inteiro\n",
        "- Criar coluna \"NPS\" onde o investidor é promotor se a média das notas é maior igual a 80, neutro se a média estiver entre 50 e 80, e detrator se for abaixo de 50\n"
      ]
    },
    {
      "cell_type": "code",
      "execution_count": 57,
      "id": "0570d688",
      "metadata": {
        "id": "0570d688"
      },
      "outputs": [
        {
          "name": "stderr",
          "output_type": "stream",
          "text": [
            "C:\\Users\\Ilmen\\AppData\\Local\\Temp\\ipykernel_10684\\4211241979.py:3: FutureWarning: Dropping of nuisance columns in DataFrame reductions (with 'numeric_only=None') is deprecated; in a future version this will raise TypeError.  Select only valid columns before calling the reduction.\n",
            "  df_manipulado[\"Total\"] = df_manipulado.iloc[:,-19:-11].sum(axis=1)\n"
          ]
        }
      ],
      "source": [
        "#Criar coluna \"Total\" somando o valor de todos os ativos por investidor\n",
        "df_manipulado = deepcopy(df)\n",
        "df_manipulado[\"Total\"] = df_manipulado.iloc[:,-19:-11].sum(axis=1)"
      ]
    },
    {
      "cell_type": "code",
      "execution_count": 58,
      "id": "1a19af5d",
      "metadata": {},
      "outputs": [],
      "source": [
        "#Criar coluna \"Media\" com a média das notas 1 e 2\n",
        "df_manipulado[\"Média\"] = df_manipulado[[\"Nota1\",\"Nota2\"]].mean(axis=1)"
      ]
    },
    {
      "cell_type": "code",
      "execution_count": 59,
      "id": "ce7f2c54",
      "metadata": {},
      "outputs": [],
      "source": [
        "#Criar coluna \"Dominio\" com apenas o domínio do email (dica: separar por @)\n",
        "df_manipulado[\"Domínio\"] = df_manipulado[\"Email\"].str.split(\"@\").str[1]"
      ]
    },
    {
      "cell_type": "code",
      "execution_count": 60,
      "id": "7c5903af",
      "metadata": {},
      "outputs": [
        {
          "ename": "TypeError",
          "evalue": "'NoneType' object is not subscriptable",
          "output_type": "error",
          "traceback": [
            "\u001b[1;31m---------------------------------------------------------------------------\u001b[0m",
            "\u001b[1;31mTypeError\u001b[0m                                 Traceback (most recent call last)",
            "Cell \u001b[1;32mIn [60], line 3\u001b[0m\n\u001b[0;32m      1\u001b[0m \u001b[39m#Mudar o nome da coluna \"Salário\" para \"Renda\" e tratar a coluna (sem caracter $ e tipo numérica)\u001b[39;00m\n\u001b[0;32m      2\u001b[0m df_manipulado \u001b[39m=\u001b[39m df_manipulado\u001b[39m.\u001b[39mrename(columns\u001b[39m=\u001b[39m {\u001b[39m\"\u001b[39m\u001b[39mSalario\u001b[39m\u001b[39m\"\u001b[39m: \u001b[39m\"\u001b[39m\u001b[39mRenda\u001b[39m\u001b[39m\"\u001b[39m}, inplace\u001b[39m=\u001b[39m\u001b[39mTrue\u001b[39;00m)\n\u001b[1;32m----> 3\u001b[0m df_manipulado[\u001b[39m\"\u001b[39m\u001b[39mRenda\u001b[39m\u001b[39m\"\u001b[39m] \u001b[39m=\u001b[39m df_manipulado[\u001b[39m\"\u001b[39;49m\u001b[39mRenda\u001b[39;49m\u001b[39m\"\u001b[39;49m]\u001b[39m.\u001b[39mstr\u001b[39m.\u001b[39mreplace(\u001b[39m\"\u001b[39m\u001b[39m$\u001b[39m\u001b[39m\"\u001b[39m,\u001b[39m\"\u001b[39m\u001b[39m\"\u001b[39m)\n\u001b[0;32m      4\u001b[0m df_manipulado[\u001b[39m\"\u001b[39m\u001b[39mRenda\u001b[39m\u001b[39m\"\u001b[39m] \u001b[39m=\u001b[39m df_manipulado[\u001b[39m\"\u001b[39m\u001b[39mRenda\u001b[39m\u001b[39m\"\u001b[39m]\u001b[39m.\u001b[39mastype(\u001b[39m\"\u001b[39m\u001b[39mfloat\u001b[39m\u001b[39m\"\u001b[39m)\n",
            "\u001b[1;31mTypeError\u001b[0m: 'NoneType' object is not subscriptable"
          ]
        }
      ],
      "source": [
        "#Mudar o nome da coluna \"Salário\" para \"Renda\" e tratar a coluna (sem caracter $ e tipo numérica)\n",
        "df_manipulado = df_manipulado.rename(columns= {\"Salario\": \"Renda\"}, inplace=True)\n",
        "df_manipulado[\"Renda\"] = df_manipulado[\"Renda\"].str.replace(\"$\",\"\")\n",
        "df_manipulado[\"Renda\"] = df_manipulado[\"Renda\"].astype(\"float\")"
      ]
    },
    {
      "cell_type": "code",
      "execution_count": null,
      "id": "3b7ca128",
      "metadata": {},
      "outputs": [],
      "source": [
        "#Mudar os dados da coluna \"Sexo\" para Masculino e Feminino (tente usar o map)\n",
        "df_manipulado[\"Sexo\"] = df_manipulado[\"Sexo\"].map({\"Fem\": \"Femino\", \"Masc\": \"Masculino\"})"
      ]
    },
    {
      "cell_type": "code",
      "execution_count": null,
      "id": "1fd2224a",
      "metadata": {},
      "outputs": [],
      "source": [
        "#Transformar os dados da coluna Media em inteiro\n",
        "df_manipulado[\"Média\"] = df_manipulado[\"Média\"].astype(\"int\")"
      ]
    },
    {
      "cell_type": "code",
      "execution_count": null,
      "id": "c8bb2c4b",
      "metadata": {},
      "outputs": [],
      "source": [
        "#Criar coluna \"NPS\" onde o investidor é promotor se a média das notas é maior igual a 80, neutro se a média estiver entre 50 e 80, e detrator se for abaixo de 50\n",
        "def filtro(media):\n",
        "    if media >= 80: \n",
        "        return \"promotor\"\n",
        "    elif media >= 50: \n",
        "        return \"neutro\" \n",
        "    else:\n",
        "        return \"detrador\"\n",
        "\n",
        "df_manipulado[\"NPS\"] = df_manipulado[\"Média\"].apply(filtro)"
      ]
    },
    {
      "cell_type": "markdown",
      "id": "767fc018",
      "metadata": {
        "id": "767fc018"
      },
      "source": [
        "## 8 - Calcule os seguintes dados\n",
        "- Calcule o total investido em cada coluna Ativo (tente usar o apply)\n",
        "- Qual o menor valor investido em cada ativo?\n",
        "- Mostre a média e desvio padrão de cada ativo\n",
        "- Qual a idade do investidor mais velho?\n",
        "- Qual a mediana da coluna Média?"
      ]
    },
    {
      "cell_type": "code",
      "execution_count": null,
      "id": "992d886b",
      "metadata": {
        "id": "992d886b"
      },
      "outputs": [
        {
          "data": {
            "text/plain": [
              "Ativo01    3.275569e+07\n",
              "Ativo02    1.680798e+08\n",
              "Ativo03    1.023306e+08\n",
              "Ativo04    4.071340e+08\n",
              "Ativo05    1.720668e+08\n",
              "Ativo06    4.462684e+07\n",
              "Ativo07    1.937903e+07\n",
              "dtype: float64"
            ]
          },
          "execution_count": 39,
          "metadata": {},
          "output_type": "execute_result"
        }
      ],
      "source": [
        "\n",
        "ativos = [\"Ativo01\", \"Ativo02\", \"Ativo03\", \"Ativo04\", \"Ativo05\", \"Ativo06\", \"Ativo07\"]\n",
        "df_manipulado[ativos].sum(axis=0)"
      ]
    },
    {
      "cell_type": "code",
      "execution_count": null,
      "id": "fd2562e0",
      "metadata": {},
      "outputs": [
        {
          "data": {
            "text/plain": [
              "Ativo01     800.01\n",
              "Ativo02    4500.05\n",
              "Ativo03    2500.01\n",
              "Ativo04    5000.81\n",
              "Ativo05    4000.14\n",
              "Ativo06    2000.04\n",
              "Ativo07     462.93\n",
              "dtype: float64"
            ]
          },
          "execution_count": 40,
          "metadata": {},
          "output_type": "execute_result"
        }
      ],
      "source": [
        "#Qual o menor valor investido em cada ativo?\n",
        "menor_investimento = df_manipulado[ativos] > 0 #Só é considerado investimento se houver um valor\n",
        "df_manipulado[ativos][menor_investimento].min()"
      ]
    },
    {
      "cell_type": "code",
      "execution_count": null,
      "id": "527e7136",
      "metadata": {},
      "outputs": [
        {
          "data": {
            "text/html": [
              "<div>\n",
              "<style scoped>\n",
              "    .dataframe tbody tr th:only-of-type {\n",
              "        vertical-align: middle;\n",
              "    }\n",
              "\n",
              "    .dataframe tbody tr th {\n",
              "        vertical-align: top;\n",
              "    }\n",
              "\n",
              "    .dataframe thead th {\n",
              "        text-align: right;\n",
              "    }\n",
              "</style>\n",
              "<table border=\"1\" class=\"dataframe\">\n",
              "  <thead>\n",
              "    <tr style=\"text-align: right;\">\n",
              "      <th></th>\n",
              "      <th>Ativo01</th>\n",
              "      <th>Ativo02</th>\n",
              "      <th>Ativo03</th>\n",
              "      <th>Ativo04</th>\n",
              "      <th>Ativo05</th>\n",
              "      <th>Ativo06</th>\n",
              "      <th>Ativo07</th>\n",
              "      <th>Nota1</th>\n",
              "      <th>Nota2</th>\n",
              "      <th>Idade</th>\n",
              "      <th>Total</th>\n",
              "      <th>Média</th>\n",
              "    </tr>\n",
              "  </thead>\n",
              "  <tbody>\n",
              "    <tr>\n",
              "      <th>count</th>\n",
              "      <td>38754.000000</td>\n",
              "      <td>38754.000000</td>\n",
              "      <td>38754.000000</td>\n",
              "      <td>38754.000000</td>\n",
              "      <td>38754.000000</td>\n",
              "      <td>38754.000000</td>\n",
              "      <td>38754.000000</td>\n",
              "      <td>38754.000000</td>\n",
              "      <td>38754.000000</td>\n",
              "      <td>38754.000000</td>\n",
              "      <td>38754.000000</td>\n",
              "      <td>38754.000000</td>\n",
              "    </tr>\n",
              "    <tr>\n",
              "      <th>mean</th>\n",
              "      <td>845.220878</td>\n",
              "      <td>4337.095701</td>\n",
              "      <td>2640.515840</td>\n",
              "      <td>10505.598580</td>\n",
              "      <td>4439.975773</td>\n",
              "      <td>1151.541631</td>\n",
              "      <td>500.052452</td>\n",
              "      <td>49.821094</td>\n",
              "      <td>50.075481</td>\n",
              "      <td>25.716855</td>\n",
              "      <td>23919.948401</td>\n",
              "      <td>49.446302</td>\n",
              "    </tr>\n",
              "    <tr>\n",
              "      <th>std</th>\n",
              "      <td>524.568525</td>\n",
              "      <td>1909.955896</td>\n",
              "      <td>1204.864694</td>\n",
              "      <td>9084.714705</td>\n",
              "      <td>2068.665605</td>\n",
              "      <td>1172.059182</td>\n",
              "      <td>9.998218</td>\n",
              "      <td>27.758707</td>\n",
              "      <td>28.108756</td>\n",
              "      <td>14.918449</td>\n",
              "      <td>9674.707187</td>\n",
              "      <td>19.754188</td>\n",
              "    </tr>\n",
              "    <tr>\n",
              "      <th>min</th>\n",
              "      <td>0.000000</td>\n",
              "      <td>0.000000</td>\n",
              "      <td>0.000000</td>\n",
              "      <td>0.000000</td>\n",
              "      <td>0.000000</td>\n",
              "      <td>0.000000</td>\n",
              "      <td>462.930000</td>\n",
              "      <td>0.003143</td>\n",
              "      <td>0.003341</td>\n",
              "      <td>0.000000</td>\n",
              "      <td>0.000000</td>\n",
              "      <td>0.000000</td>\n",
              "    </tr>\n",
              "    <tr>\n",
              "      <th>25%</th>\n",
              "      <td>0.000000</td>\n",
              "      <td>4667.827500</td>\n",
              "      <td>2663.370000</td>\n",
              "      <td>0.000000</td>\n",
              "      <td>4320.465000</td>\n",
              "      <td>0.000000</td>\n",
              "      <td>493.300000</td>\n",
              "      <td>26.971102</td>\n",
              "      <td>26.504424</td>\n",
              "      <td>13.000000</td>\n",
              "      <td>15967.427500</td>\n",
              "      <td>35.000000</td>\n",
              "    </tr>\n",
              "    <tr>\n",
              "      <th>50%</th>\n",
              "      <td>999.165000</td>\n",
              "      <td>5003.595000</td>\n",
              "      <td>2995.925000</td>\n",
              "      <td>10138.740000</td>\n",
              "      <td>4997.265000</td>\n",
              "      <td>0.000000</td>\n",
              "      <td>500.130000</td>\n",
              "      <td>49.821094</td>\n",
              "      <td>50.075481</td>\n",
              "      <td>26.000000</td>\n",
              "      <td>23567.610000</td>\n",
              "      <td>49.000000</td>\n",
              "    </tr>\n",
              "    <tr>\n",
              "      <th>75%</th>\n",
              "      <td>1203.490000</td>\n",
              "      <td>5343.565000</td>\n",
              "      <td>3333.727500</td>\n",
              "      <td>16780.967500</td>\n",
              "      <td>5672.972500</td>\n",
              "      <td>2268.810000</td>\n",
              "      <td>506.830000</td>\n",
              "      <td>72.802601</td>\n",
              "      <td>73.598837</td>\n",
              "      <td>39.000000</td>\n",
              "      <td>30571.532500</td>\n",
              "      <td>64.000000</td>\n",
              "    </tr>\n",
              "    <tr>\n",
              "      <th>max</th>\n",
              "      <td>2143.050000</td>\n",
              "      <td>6990.260000</td>\n",
              "      <td>5212.550000</td>\n",
              "      <td>48744.740000</td>\n",
              "      <td>9052.260000</td>\n",
              "      <td>3639.650000</td>\n",
              "      <td>542.300000</td>\n",
              "      <td>99.996659</td>\n",
              "      <td>99.999535</td>\n",
              "      <td>51.000000</td>\n",
              "      <td>64390.270000</td>\n",
              "      <td>99.000000</td>\n",
              "    </tr>\n",
              "  </tbody>\n",
              "</table>\n",
              "</div>"
            ],
            "text/plain": [
              "            Ativo01       Ativo02       Ativo03       Ativo04       Ativo05  \\\n",
              "count  38754.000000  38754.000000  38754.000000  38754.000000  38754.000000   \n",
              "mean     845.220878   4337.095701   2640.515840  10505.598580   4439.975773   \n",
              "std      524.568525   1909.955896   1204.864694   9084.714705   2068.665605   \n",
              "min        0.000000      0.000000      0.000000      0.000000      0.000000   \n",
              "25%        0.000000   4667.827500   2663.370000      0.000000   4320.465000   \n",
              "50%      999.165000   5003.595000   2995.925000  10138.740000   4997.265000   \n",
              "75%     1203.490000   5343.565000   3333.727500  16780.967500   5672.972500   \n",
              "max     2143.050000   6990.260000   5212.550000  48744.740000   9052.260000   \n",
              "\n",
              "            Ativo06       Ativo07         Nota1         Nota2         Idade  \\\n",
              "count  38754.000000  38754.000000  38754.000000  38754.000000  38754.000000   \n",
              "mean    1151.541631    500.052452     49.821094     50.075481     25.716855   \n",
              "std     1172.059182      9.998218     27.758707     28.108756     14.918449   \n",
              "min        0.000000    462.930000      0.003143      0.003341      0.000000   \n",
              "25%        0.000000    493.300000     26.971102     26.504424     13.000000   \n",
              "50%        0.000000    500.130000     49.821094     50.075481     26.000000   \n",
              "75%     2268.810000    506.830000     72.802601     73.598837     39.000000   \n",
              "max     3639.650000    542.300000     99.996659     99.999535     51.000000   \n",
              "\n",
              "              Total         Média  \n",
              "count  38754.000000  38754.000000  \n",
              "mean   23919.948401     49.446302  \n",
              "std     9674.707187     19.754188  \n",
              "min        0.000000      0.000000  \n",
              "25%    15967.427500     35.000000  \n",
              "50%    23567.610000     49.000000  \n",
              "75%    30571.532500     64.000000  \n",
              "max    64390.270000     99.000000  "
            ]
          },
          "execution_count": 41,
          "metadata": {},
          "output_type": "execute_result"
        }
      ],
      "source": [
        "df_manipulado.describe() #Idade"
      ]
    },
    {
      "cell_type": "markdown",
      "id": "0f074caf",
      "metadata": {
        "id": "0f074caf"
      },
      "source": [
        "## 9 - Responder as perguntas abaixo\n",
        "\n",
        "- Quantos investidores são promotores?\n",
        "- Quantos investidores são do sexo feminino?\n",
        "- Quantos investidores investiram mais de 16000 no Ativo04?\n",
        "- Quantos investidores investiram mais de 16000 no Ativo04 e menos de 5000 no Ativo05?\n",
        "- Quantos investidores do sexo feminino tem mais de 25 anos e investiu menos de 10000? (bonus: por que esse dado seria importante para a estratégia da nossa empresa?\n",
        "\n",
        "- Quantos investidores tem em cada estado (dica: use groupby)\n",
        "- Qual é a soma do total investido por cada estado?\n",
        "- Como os investidores se distribuem em promotores, detratores e neutros?\n",
        "- Qual é a média do total investido por promotores, detratores e neutros?\n"
      ]
    },
    {
      "cell_type": "code",
      "execution_count": null,
      "id": "520860bd",
      "metadata": {
        "id": "520860bd"
      },
      "outputs": [
        {
          "name": "stdout",
          "output_type": "stream",
          "text": [
            "2703\n",
            "0\n",
            "10689\n",
            "5374\n",
            "0 \n"
          ]
        },
        {
          "data": {
            "text/plain": [
              "Estado\n",
              "AC    1435\n",
              "AL    1376\n",
              "AM    1495\n",
              "AP    1438\n",
              "BA    1484\n",
              "CE    1465\n",
              "DF    1470\n",
              "ES    1472\n",
              "GO    1394\n",
              "MA    1454\n",
              "MG    1407\n",
              "MS    1436\n",
              "MT    1390\n",
              "PA    1421\n",
              "PB    1405\n",
              "PE    1477\n",
              "PI    1503\n",
              "PR    1371\n",
              "RJ    1466\n",
              "RN    1472\n",
              "RO    1440\n",
              "RR    1495\n",
              "RS    1393\n",
              "SC    1430\n",
              "SE    1319\n",
              "SP    1464\n",
              "TO    1382\n",
              "Name: id, dtype: int64"
            ]
          },
          "metadata": {},
          "output_type": "display_data"
        },
        {
          "data": {
            "text/plain": [
              "NPS\n",
              "detrador    19617\n",
              "neutro      16434\n",
              "promotor     2703\n",
              "Name: id, dtype: int64"
            ]
          },
          "metadata": {},
          "output_type": "display_data"
        },
        {
          "data": {
            "text/plain": [
              "NPS\n",
              "detrador    23888.949494\n",
              "neutro      23952.825095\n",
              "promotor    23945.035335\n",
              "Name: Total, dtype: float64"
            ]
          },
          "metadata": {},
          "output_type": "display_data"
        },
        {
          "name": "stdout",
          "output_type": "stream",
          "text": [
            "             id         Total\n",
            "NPS                          \n",
            "detrador  19617  23888.949494\n",
            "neutro    16434  23952.825095\n",
            "promotor   2703  23945.035335\n"
          ]
        }
      ],
      "source": [
        "#Quantos investidores são promotores?\n",
        "print(f\"{(df_manipulado['NPS'] == 'promotor').sum()}\")\n",
        "#Quantos investidores são do sexo feminino?\n",
        "print(f\"{(df_manipulado['Sexo'] == 'Feminino').sum()}\")\n",
        "#Quantos investidores investiram mais de 16000 no Ativo04?\n",
        "print(f\"{(df_manipulado['Ativo04'] > 16000).sum()}\")\n",
        "#Quantos investidores investiram mais de 16000 no Ativo04 e menos de 5000 no Ativo05?\n",
        "print(f\"\"\"{((df_manipulado['Ativo04'] > 16000) & (df_manipulado['Ativo05'] < 5000)).sum()}\"\"\")\n",
        "#Quantos investidores do sexo feminino tem mais de 25 anos e investiu menos de 10000? (bonus: por que esse dado seria importante para a estratégia da nossa empresa?\n",
        "potenciais_investidores = \\\n",
        "    ((df_manipulado['Total'] < 10000) & \\\n",
        "    (df_manipulado['Sexo'] == 'Feminino') & \\\n",
        "    (df_manipulado[\"Idade\"] >25)).sum() \n",
        "print(f\"\"\"{potenciais_investidores} \"\"\")\n",
        "#Quantos investidores tem em cada estado (dica: use groupby)\n",
        "display(df_manipulado.groupby(['Estado'])['id'].count())\n",
        "#Qual é a soma do total investido por cada estado?\n",
        "display(df_manipulado.groupby(['NPS'])['id'].count())\n",
        "\n",
        "display(df_manipulado.groupby(['NPS'])['Total'].mean())\n",
        "\n",
        "grouped_single = df_manipulado.groupby('NPS').agg({'id':'count', 'Total': 'mean'})\n",
        "\n",
        "print(grouped_single)"
      ]
    }
  ],
  "metadata": {
    "colab": {
      "provenance": []
    },
    "kernelspec": {
      "display_name": "Python 3.10.8 64-bit (microsoft store)",
      "language": "python",
      "name": "python3"
    },
    "language_info": {
      "codemirror_mode": {
        "name": "ipython",
        "version": 3
      },
      "file_extension": ".py",
      "mimetype": "text/x-python",
      "name": "python",
      "nbconvert_exporter": "python",
      "pygments_lexer": "ipython3",
      "version": "3.10.8"
    },
    "varInspector": {
      "cols": {
        "lenName": 16,
        "lenType": 16,
        "lenVar": 40
      },
      "kernels_config": {
        "python": {
          "delete_cmd_postfix": "",
          "delete_cmd_prefix": "del ",
          "library": "var_list.py",
          "varRefreshCmd": "print(var_dic_list())"
        },
        "r": {
          "delete_cmd_postfix": ") ",
          "delete_cmd_prefix": "rm(",
          "library": "var_list.r",
          "varRefreshCmd": "cat(var_dic_list()) "
        }
      },
      "types_to_exclude": [
        "module",
        "function",
        "builtin_function_or_method",
        "instance",
        "_Feature"
      ],
      "window_display": false
    },
    "vscode": {
      "interpreter": {
        "hash": "d52854aa2914e783df572df643cb20b83eb1f7c824840fc00497d66b9621cb76"
      }
    }
  },
  "nbformat": 4,
  "nbformat_minor": 5
}
